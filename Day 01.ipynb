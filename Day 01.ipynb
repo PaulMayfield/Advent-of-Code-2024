{
 "cells": [
  {
   "cell_type": "code",
   "execution_count": 1,
   "metadata": {},
   "outputs": [],
   "source": [
    "\n",
    "import requests\n",
    "import os\n",
    "\n",
    "Day = 1\n",
    "\n",
    "# get file from website using private session key stored in enviromental variables\n",
    "r = requests.get(\n",
    "            f'https://adventofcode.com/2024/day/'+str(Day)+'/input',\n",
    "            cookies={'session': os.getenv('AdventSessionKey')}\n",
    ")\n",
    "\n",
    "# read r.text\n",
    "data = r.text.strip()\n"
   ]
  },
  {
   "cell_type": "code",
   "execution_count": null,
   "metadata": {},
   "outputs": [],
   "source": []
  },
  {
   "cell_type": "code",
   "execution_count": 5,
   "metadata": {},
   "outputs": [
    {
     "name": "stdout",
     "output_type": "stream",
     "text": [
      "Absolute differences: 3569916\n"
     ]
    }
   ],
   "source": [
    "# Split the data into lines\n",
    "lines = data.split('\\n')\n",
    "\n",
    "# Initialize lists for left and right numbers\n",
    "left_numbers = []\n",
    "right_numbers = []\n",
    "\n",
    "# Process each line\n",
    "for line in lines:\n",
    "    left, right = line.split()\n",
    "    left_numbers.append(int(left))\n",
    "    right_numbers.append(int(right))\n",
    "\n",
    "# Sort the lists\n",
    "left_numbers.sort()\n",
    "right_numbers.sort()\n",
    "\n",
    "# Calculate absolute differences\n",
    "differences = [abs(left - right) for left, right in zip(left_numbers, right_numbers)]\n",
    "\n",
    "# Output results\n",
    "print(f\"Absolute differences: {sum(differences)}\")\n"
   ]
  },
  {
   "cell_type": "code",
   "execution_count": 9,
   "metadata": {},
   "outputs": [
    {
     "name": "stdout",
     "output_type": "stream",
     "text": [
      "Similarity Score: 26407426\n"
     ]
    }
   ],
   "source": [
    "occurrences = {num * right_numbers.count(num) for num in left_numbers}\n",
    "\n",
    "print(f\"Similarity Score: {sum(occurrences)}\")"
   ]
  }
 ],
 "metadata": {
  "kernelspec": {
   "display_name": "base",
   "language": "python",
   "name": "python3"
  },
  "language_info": {
   "codemirror_mode": {
    "name": "ipython",
    "version": 3
   },
   "file_extension": ".py",
   "mimetype": "text/x-python",
   "name": "python",
   "nbconvert_exporter": "python",
   "pygments_lexer": "ipython3",
   "version": "3.11.2"
  },
  "orig_nbformat": 4
 },
 "nbformat": 4,
 "nbformat_minor": 2
}
