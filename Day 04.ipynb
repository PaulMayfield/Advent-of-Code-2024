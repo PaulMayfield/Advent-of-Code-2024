{
 "cells": [
  {
   "cell_type": "code",
   "execution_count": 2,
   "metadata": {},
   "outputs": [],
   "source": [
    "\n",
    "import requests\n",
    "import os\n",
    "\n",
    "Day = 4\n",
    "\n",
    "# get file from website using private session key stored in enviromental variables\n",
    "r = requests.get(\n",
    "            f'https://adventofcode.com/2024/day/'+str(Day)+'/input',\n",
    "            cookies={'session': os.getenv('AdventSessionKey')}\n",
    ")\n",
    "\n",
    "# read r.text\n",
    "grid = r.text.strip().split('\\n')\n"
   ]
  },
  {
   "cell_type": "code",
   "execution_count": 3,
   "metadata": {},
   "outputs": [],
   "source": [
    "def search_XMAS(grid):\n",
    "    directions = [(-1, 0), (1, 0), (0, -1), (0, 1), (-1, -1), (-1, 1), (1, -1), (1, 1)]\n",
    "    word = \"XMAS\"\n",
    "    count = 0\n",
    "    \n",
    "    rows = len(grid)\n",
    "    cols = len(grid[0])\n",
    "    \n",
    "    def in_bounds(r, c):\n",
    "        return 0 <= r < rows and 0 <= c < cols\n",
    "    \n",
    "    def search_from(r, c):\n",
    "        nonlocal count\n",
    "        for dr, dc in directions:\n",
    "            match = True\n",
    "            for i in range(4):\n",
    "                nr, nc = r + dr * i, c + dc * i\n",
    "                if not in_bounds(nr, nc) or grid[nr][nc] != word[i]:\n",
    "                    match = False\n",
    "                    break\n",
    "            if match:\n",
    "                count += 1\n",
    "\n",
    "    for r in range(rows):\n",
    "        for c in range(cols):\n",
    "            if grid[r][c] == 'X':\n",
    "                search_from(r, c)\n",
    "    \n",
    "    return count\n",
    "\n"
   ]
  },
  {
   "cell_type": "code",
   "execution_count": 4,
   "metadata": {},
   "outputs": [
    {
     "name": "stdout",
     "output_type": "stream",
     "text": [
      "The word 'XMAS' appears 2517 times.\n"
     ]
    }
   ],
   "source": [
    "\n",
    "result = search_XMAS(grid)\n",
    "print(f\"The word 'XMAS' appears {result} times.\")\n"
   ]
  },
  {
   "cell_type": "code",
   "execution_count": 17,
   "metadata": {},
   "outputs": [],
   "source": [
    "def search_MAS_X_shape(grid):\n",
    "    count = 0\n",
    "    rows = len(grid)\n",
    "    cols = len(grid[0])\n",
    "    \n",
    "    def in_bounds(r, c):\n",
    "        return 0 <= r < rows and 0 <= c < cols\n",
    "    \n",
    "    def check_diagonal(r, c, dr1, dc1, dr2, dc2):\n",
    "        # Check the first diagonal\n",
    "        if in_bounds(r + dr1, c + dc1) and in_bounds(r - dr1, c - dc1):\n",
    "            first_letter = grid[r + dr1][c + dc1]\n",
    "            second_letter = grid[r - dr1][c - dc1]\n",
    "            if (first_letter == 'M' and second_letter == 'S') or (first_letter == 'S' and second_letter == 'M'):\n",
    "                # Check the second diagonal\n",
    "                if in_bounds(r + dr2, c + dc2) and in_bounds(r - dr2, c - dc2):\n",
    "                    first_letter = grid[r + dr2][c + dc2]\n",
    "                    second_letter = grid[r - dr2][c - dc2]\n",
    "                    if (first_letter == 'M' and second_letter == 'S') or (first_letter == 'S' and second_letter == 'M'):\n",
    "                        return True\n",
    "        return False\n",
    "    \n",
    "    for r in range(rows):\n",
    "        for c in range(cols):\n",
    "            if grid[r][c] == 'A':\n",
    "                if check_diagonal(r, c, -1, -1, 1, 1) and check_diagonal(r, c, -1, 1, 1, -1):\n",
    "                    count += 1\n",
    "    \n",
    "    return count\n"
   ]
  },
  {
   "cell_type": "code",
   "execution_count": 18,
   "metadata": {},
   "outputs": [
    {
     "name": "stdout",
     "output_type": "stream",
     "text": [
      "The 'MAS' pattern centered on 'A' forming an 'X' shape appears 1960 times.\n"
     ]
    }
   ],
   "source": [
    "\n",
    "result = search_MAS_X_shape(grid)\n",
    "print(f\"The 'MAS' pattern centered on 'A' forming an 'X' shape appears {result} times.\")\n"
   ]
  }
 ],
 "metadata": {
  "kernelspec": {
   "display_name": "base",
   "language": "python",
   "name": "python3"
  },
  "language_info": {
   "codemirror_mode": {
    "name": "ipython",
    "version": 3
   },
   "file_extension": ".py",
   "mimetype": "text/x-python",
   "name": "python",
   "nbconvert_exporter": "python",
   "pygments_lexer": "ipython3",
   "version": "3.11.2"
  },
  "orig_nbformat": 4
 },
 "nbformat": 4,
 "nbformat_minor": 2
}
