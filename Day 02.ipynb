{
 "cells": [
  {
   "cell_type": "code",
   "execution_count": null,
   "metadata": {},
   "outputs": [],
   "source": [
    "\n",
    "import requests\n",
    "import os\n",
    "\n",
    "Day = 2\n",
    "\n",
    "# get file from website using private session key stored in enviromental variables\n",
    "r = requests.get(\n",
    "            f'https://adventofcode.com/2024/day/'+str(Day)+'/input',\n",
    "            cookies={'session': os.getenv('AdventSessionKey')}\n",
    ")\n",
    "\n",
    "# read r.text\n",
    "reports = r.text.strip().split('\\n')\n"
   ]
  },
  {
   "cell_type": "code",
   "execution_count": 2,
   "metadata": {},
   "outputs": [],
   "source": [
    "def is_increasing_or_decreasing(levels):\n",
    "    increasing = all(x < y for x, y in zip(levels, levels[1:]))\n",
    "    decreasing = all(x > y for x, y in zip(levels, levels[1:]))\n",
    "    return increasing or decreasing\n",
    "\n",
    "def adjacent_difference_within_range(levels):\n",
    "    return all(1 <= abs(x - y) <= 3 for x, y in zip(levels, levels[1:]))\n",
    "\n",
    "def is_safe_report(report):\n",
    "    levels = list(map(int, report.split()))\n",
    "    return is_increasing_or_decreasing(levels) and adjacent_difference_within_range(levels)\n",
    "\n",
    "def count_safe_reports(reports):\n",
    "    return sum(is_safe_report(report) for report in reports)\n"
   ]
  },
  {
   "cell_type": "code",
   "execution_count": 3,
   "metadata": {},
   "outputs": [
    {
     "name": "stdout",
     "output_type": "stream",
     "text": [
      "Number of safe reports: 314\n"
     ]
    }
   ],
   "source": [
    "safe_report_count = count_safe_reports(reports)\n",
    "print(f\"Number of safe reports: {safe_report_count}\")"
   ]
  },
  {
   "cell_type": "code",
   "execution_count": 4,
   "metadata": {},
   "outputs": [
    {
     "name": "stdout",
     "output_type": "stream",
     "text": [
      "Number of safe reports: 373\n"
     ]
    }
   ],
   "source": [
    "# Modified version of the function to iterate through remove one versions of reports\n",
    "def is_safe_report(report):\n",
    "    levels = list(map(int, report.split()))\n",
    "    for i in range(len(levels)):\n",
    "        modified_levels = levels[:i] + levels[i+1:]\n",
    "        if is_increasing_or_decreasing(modified_levels) and adjacent_difference_within_range(modified_levels):\n",
    "            return True\n",
    "    return False\n",
    "\n",
    "safe_report_count = count_safe_reports(reports)\n",
    "print(f\"Number of safe reports: {safe_report_count}\")\n"
   ]
  }
 ],
 "metadata": {
  "kernelspec": {
   "display_name": "base",
   "language": "python",
   "name": "python3"
  },
  "language_info": {
   "codemirror_mode": {
    "name": "ipython",
    "version": 3
   },
   "file_extension": ".py",
   "mimetype": "text/x-python",
   "name": "python",
   "nbconvert_exporter": "python",
   "pygments_lexer": "ipython3",
   "version": "3.11.2"
  },
  "orig_nbformat": 4
 },
 "nbformat": 4,
 "nbformat_minor": 2
}
