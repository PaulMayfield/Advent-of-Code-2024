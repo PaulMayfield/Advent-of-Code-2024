{
 "cells": [
  {
   "cell_type": "code",
   "execution_count": 1,
   "metadata": {},
   "outputs": [],
   "source": [
    "\n",
    "import requests\n",
    "import os\n",
    "\n",
    "Day = 3\n",
    "\n",
    "# get file from website using private session key stored in enviromental variables\n",
    "r = requests.get(\n",
    "            f'https://adventofcode.com/2024/day/'+str(Day)+'/input',\n",
    "            cookies={'session': os.getenv('AdventSessionKey')}\n",
    ")\n",
    "\n",
    "# read r.text\n",
    "data = r.text.strip()\n"
   ]
  },
  {
   "cell_type": "code",
   "execution_count": 4,
   "metadata": {},
   "outputs": [
    {
     "name": "stdout",
     "output_type": "stream",
     "text": [
      "Sum of all products: 187833789\n"
     ]
    }
   ],
   "source": [
    "import re\n",
    "\n",
    "pattern = r\"mul\\((\\d+),(\\d+)\\)\"  # Pattern to capture the numbers\n",
    "\n",
    "matches = re.findall(pattern, data)\n",
    "\n",
    "product_sum = sum(int(a) * int(b) for a, b in matches)\n",
    "print(\"Sum of all products:\", product_sum)\n"
   ]
  },
  {
   "cell_type": "code",
   "execution_count": 5,
   "metadata": {},
   "outputs": [
    {
     "name": "stdout",
     "output_type": "stream",
     "text": [
      "Sum of all products: 94455185\n"
     ]
    }
   ],
   "source": [
    "import re\n",
    "\n",
    "def process_text(text):\n",
    "    pattern = re.compile(r\"(\\bdo\\(\\)|\\bdon't\\(\\)|mul\\((\\d+),(\\d+)\\))\")\n",
    "    enabled = True\n",
    "    product_sum = 0\n",
    "    \n",
    "    for match in pattern.finditer(text):\n",
    "        if match.group(0) == \"do()\":\n",
    "            enabled = True\n",
    "        elif match.group(0) == \"don't()\":\n",
    "            enabled = False\n",
    "        elif enabled and match.group(2) and match.group(3):\n",
    "            product_sum += int(match.group(2)) * int(match.group(3))\n",
    "    \n",
    "    return product_sum\n",
    "\n",
    "\n",
    "result = process_text(data)\n",
    "print(\"Sum of all products:\", result)\n"
   ]
  }
 ],
 "metadata": {
  "kernelspec": {
   "display_name": "base",
   "language": "python",
   "name": "python3"
  },
  "language_info": {
   "codemirror_mode": {
    "name": "ipython",
    "version": 3
   },
   "file_extension": ".py",
   "mimetype": "text/x-python",
   "name": "python",
   "nbconvert_exporter": "python",
   "pygments_lexer": "ipython3",
   "version": "3.11.2"
  },
  "orig_nbformat": 4
 },
 "nbformat": 4,
 "nbformat_minor": 2
}
